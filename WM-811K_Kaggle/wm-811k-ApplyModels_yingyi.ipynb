{
 "cells": [
  {
   "cell_type": "code",
   "execution_count": 5,
   "id": "f78b472c-9565-481c-a6f6-1d8e45fab990",
   "metadata": {},
   "outputs": [],
   "source": [
    "import os\n",
    "import numpy as np\n",
    "import pandas as pd\n",
    "import matplotlib.pyplot as plt\n",
    "import tensorflow as tf\n",
    "import keras\n",
    "import warnings\n",
    "\n",
    "from os.path import join\n",
    "from keras import layers, Input, models\n",
    "from tensorflow.keras.utils import to_categorical\n",
    "from keras.wrappers.scikit_learn import KerasClassifier \n",
    "from sklearn.model_selection import KFold \n",
    "from sklearn.model_selection import cross_val_score\n",
    "from sklearn.model_selection import train_test_split\n",
    "\n",
    "datapath = join('data', 'wafer')\n",
    "\n",
    "warnings.filterwarnings(\"ignore\")"
   ]
  },
  {
   "cell_type": "markdown",
   "id": "9a04468a-89de-4add-8b57-4974d15c7418",
   "metadata": {},
   "source": [
    "https://www.kaggle.com/code/teeeady/keras-wafer-classification-cnn2d"
   ]
  },
  {
   "cell_type": "markdown",
   "id": "3d6d8d9b-dcc9-4f93-88a8-2294cb5c8295",
   "metadata": {
    "editable": false
   },
   "source": [
    "## Image Data Preprocessing"
   ]
  },
  {
   "cell_type": "code",
   "execution_count": 6,
   "id": "beb0af82-e8d7-46e0-8146-928321db33a3",
   "metadata": {
    "editable": false
   },
   "outputs": [
    {
     "data": {
      "text/plain": [
       "' \\nSave it as a csv file and \\ntake it out again to \\nlearn because of the lack of \\nmaximum memory inside Kaggle. \\n'"
      ]
     },
     "execution_count": 6,
     "metadata": {},
     "output_type": "execute_result"
    }
   ],
   "source": [
    " # image size drop\n",
    "def find_dim(x):\n",
    "    dim0=np.size(x,axis=0)\n",
    "    dim1=np.size(x,axis=1)\n",
    "    return dim0,dim1\n",
    "\n",
    " # Data preprocessing process\n",
    "def __Inputdf__(Hei, Wei):\n",
    "    sub_df = df.loc[df['waferMapDim'] == (Hei, Wei)]\n",
    "    sw = np.ones((1,  Hei, Wei))\n",
    "    label = list()\n",
    "\n",
    "    for i in range(len(sub_df)):\n",
    "        if len(sub_df.iloc[i, :]['failureType']) == 0:\n",
    "            continue\n",
    "        sw = np.concatenate((sw, sub_df.iloc[i,:]['waferMap'].reshape(1, Hei, Wei)))\n",
    "        label.append(sub_df.iloc[i, :]['failureType'][0][0])\n",
    "    \n",
    "    x = sw[1:]\n",
    "    y = np.array(label).reshape((-1,1))\n",
    "    \n",
    "    #add channel\n",
    "    x = x.reshape((-1, Hei, Wei, 1))\n",
    "    new_x = np.zeros((len(x), Hei, Wei, 3))\n",
    "\n",
    "    for w in range(len(x)):\n",
    "        for i in range(Hei):\n",
    "            for j in range(Wei):\n",
    "                new_x[w, i, j, int(x[w, i, j])] = 1\n",
    "    return new_x, y\n",
    "\n",
    " # Two ways to Scaling\n",
    "def __InputTf1__(new_x):\n",
    "    new_result = tf.compat.v1.image.resize(new_x, (26,26),\n",
    "                                       method=tf.image.ResizeMethod.NEAREST_NEIGHBOR, \n",
    "                                       align_corners=True,\n",
    "                                       preserve_aspect_ratio=False, \n",
    "                                       name=None)\n",
    "    return new_result\n",
    "def __InputTf2__(new_x):\n",
    "    new_result = tf.keras.preprocessing.image.smart_resize(new_x, \n",
    "                                                           (26,26),\n",
    "                                                           interpolation = 'nearest')\n",
    "    return new_result\n",
    "\n",
    "# augment function define\n",
    "def gen_data(wafer, label):\n",
    "    # Encode input wafer\n",
    "    encoded_x = encoder.predict(wafer)\n",
    "    \n",
    "    # dummy array for collecting noised wafer\n",
    "    gen_x = np.zeros((1, 26, 26, 3))\n",
    "    \n",
    "    # Make wafer until total # of wafer to 2000\n",
    "    for i in range((2000//len(wafer)) + 1):\n",
    "        noised_encoded_x = encoded_x + np.random.normal(loc=0, scale=0.1, size = (len(encoded_x), 13, 13, 64)) \n",
    "        noised_gen_x = decoder.predict(noised_encoded_x)\n",
    "        gen_x = np.concatenate((gen_x, noised_gen_x), axis=0)\n",
    "    # also make label vector with same length\n",
    "    gen_y = np.full((len(gen_x), 1), label)\n",
    "    \n",
    "    # return date without 1st dummy data.\n",
    "    return gen_x[1:], gen_y[1:]\n",
    "\n",
    " # Saving and loading new_x and new_y variables\n",
    "def save_new_x(new_x):\n",
    "    f = open(\"./save_new_x.csv\", \"w\")\n",
    "    for w in range(len(new_x)):\n",
    "        for i in range(26):\n",
    "            for j in range(26):\n",
    "                for o in range(3):\n",
    "                    f.write(str(new_x[w][i][j][o]))\n",
    "                \n",
    "    f.close()\n",
    "    return \n",
    "\n",
    " \"\"\" \n",
    " Save it as a csv file and \n",
    " take it out again to \n",
    " learn because of the lack of \n",
    " maximum memory inside Kaggle. \n",
    " \"\"\" "
   ]
  },
  {
   "cell_type": "markdown",
   "id": "1933f67a-8b19-412e-8960-0b20e57b79af",
   "metadata": {
    "editable": false
   },
   "source": [
    "### Read data"
   ]
  },
  {
   "cell_type": "code",
   "execution_count": 7,
   "id": "06740abc-96b1-4be5-be78-72ca52911953",
   "metadata": {},
   "outputs": [],
   "source": [
    "df=pd.read_pickle('D:\\AI in EDA\\LSWMD(Kaggle)\\LSWMD.pkl')"
   ]
  },
  {
   "cell_type": "markdown",
   "id": "6dd0f936-8755-4d88-8b33-f4dd4a8f2eb8",
   "metadata": {
    "editable": false
   },
   "source": [
    "- The dataset comprises 811,457 wafer maps, along with additional information such as wafer die size, lot name and wafer index.\n",
    "\n",
    "- The training / test set were already split by domain experts, but in this kernel we ignore this info and we re-divided the dataset into training set and test set by hold-out mehtod which will be introduced in later section."
   ]
  },
  {
   "cell_type": "code",
   "execution_count": 8,
   "id": "a7bc1943-bed8-4b44-b4c0-ddbe00d01655",
   "metadata": {
    "editable": false
   },
   "outputs": [
    {
     "data": {
      "image/png": "[encoded data removed]",
      "text/plain": [
       "<Figure size 432x288 with 1 Axes>"
      ]
     },
     "metadata": {
      "needs_background": "light"
     },
     "output_type": "display_data"
    }
   ],
   "source": [
    "import matplotlib.pyplot as plt\n",
    "%matplotlib inline\n",
    "\n",
    "\n",
    "uni_Index=np.unique(df.waferIndex, return_counts=True)\n",
    "plt.bar(uni_Index[0],uni_Index[1], color='gold', align='center', alpha=0.5)\n",
    "plt.title(\" wafer Index distribution\")\n",
    "plt.xlabel(\"index #\")\n",
    "plt.ylabel(\"frequency\")\n",
    "plt.xlim(0,26)\n",
    "plt.ylim(30000,34000)\n",
    "plt.show()"
   ]
  },
  {
   "cell_type": "markdown",
   "id": "b90942fa-ef7e-4383-8e67-feeca0bfffb3",
   "metadata": {
    "editable": false
   },
   "source": [
    "- The figure shows that not all lots have perfect 25 wafer maps and it may caused by sensor failure or other unknown problems.\n",
    "\n",
    "- Fortunately, we do not need wafer index feature in our classification so we can just drop the variable."
   ]
  },
  {
   "cell_type": "code",
   "execution_count": 9,
   "id": "6b868932-fb5f-4e13-9155-39d0669e27a3",
   "metadata": {
    "editable": false
   },
   "outputs": [],
   "source": [
    "df = df.drop(['waferIndex'], axis = 1)"
   ]
  },
  {
   "cell_type": "markdown",
   "id": "b0e33a8b-31c8-4c6f-bb60-1ac749e8059a",
   "metadata": {
    "editable": false
   },
   "source": [
    "- We can not get much information from the wafer map column but we can see the die size for each instance is different.\n",
    "\n",
    "- We create a new variable 'waferMapDim' for wafer map dim checking."
   ]
  },
  {
   "cell_type": "code",
   "execution_count": 10,
   "id": "e3a8bee0-257f-489f-9ca7-18af274a5abe",
   "metadata": {
    "editable": false
   },
   "outputs": [
    {
     "data": {
      "text/html": [
       "<div>\n",
       "<style scoped>\n",
       "    .dataframe tbody tr th:only-of-type {\n",
       "        vertical-align: middle;\n",
       "    }\n",
       "\n",
       "    .dataframe tbody tr th {\n",
       "        vertical-align: top;\n",
       "    }\n",
       "\n",
       "    .dataframe thead th {\n",
       "        text-align: right;\n",
       "    }\n",
       "</style>\n",
       "<table border=\"1\" class=\"dataframe\">\n",
       "  <thead>\n",
       "    <tr style=\"text-align: right;\">\n",
       "      <th></th>\n",
       "      <th>waferMap</th>\n",
       "      <th>dieSize</th>\n",
       "      <th>lotName</th>\n",
       "      <th>trianTestLabel</th>\n",
       "      <th>failureType</th>\n",
       "      <th>waferMapDim</th>\n",
       "    </tr>\n",
       "  </thead>\n",
       "  <tbody>\n",
       "    <tr>\n",
       "      <th>235643</th>\n",
       "      <td>[[0, 0, 0, 0, 0, 0, 0, 0, 0, 0, 0, 0, 0, 0, 0,...</td>\n",
       "      <td>2598.0</td>\n",
       "      <td>lot14736</td>\n",
       "      <td>[]</td>\n",
       "      <td>[]</td>\n",
       "      <td>(57, 57)</td>\n",
       "    </tr>\n",
       "    <tr>\n",
       "      <th>376692</th>\n",
       "      <td>[[0, 0, 0, 0, 0, 0, 0, 0, 0, 0, 0, 0, 0, 1, 1,...</td>\n",
       "      <td>811.0</td>\n",
       "      <td>lot22457</td>\n",
       "      <td>[]</td>\n",
       "      <td>[]</td>\n",
       "      <td>(34, 31)</td>\n",
       "    </tr>\n",
       "    <tr>\n",
       "      <th>191998</th>\n",
       "      <td>[[0, 0, 0, 0, 0, 0, 0, 0, 0, 0, 0, 0, 0, 0, 0,...</td>\n",
       "      <td>1746.0</td>\n",
       "      <td>lot12156</td>\n",
       "      <td>[]</td>\n",
       "      <td>[]</td>\n",
       "      <td>(47, 47)</td>\n",
       "    </tr>\n",
       "    <tr>\n",
       "      <th>765581</th>\n",
       "      <td>[[0, 0, 0, 0, 0, 0, 0, 0, 0, 0, 0, 0, 0, 0, 0,...</td>\n",
       "      <td>1791.0</td>\n",
       "      <td>lot45676</td>\n",
       "      <td>[[Training]]</td>\n",
       "      <td>[[none]]</td>\n",
       "      <td>(48, 48)</td>\n",
       "    </tr>\n",
       "    <tr>\n",
       "      <th>285797</th>\n",
       "      <td>[[0, 0, 0, 0, 0, 0, 0, 0, 0, 0, 0, 0, 0, 0, 0,...</td>\n",
       "      <td>4096.0</td>\n",
       "      <td>lot17446</td>\n",
       "      <td>[]</td>\n",
       "      <td>[]</td>\n",
       "      <td>(72, 72)</td>\n",
       "    </tr>\n",
       "  </tbody>\n",
       "</table>\n",
       "</div>"
      ],
      "text/plain": [
       "                                                 waferMap  dieSize   lotName  \\\n",
       "235643  [[0, 0, 0, 0, 0, 0, 0, 0, 0, 0, 0, 0, 0, 0, 0,...   2598.0  lot14736   \n",
       "376692  [[0, 0, 0, 0, 0, 0, 0, 0, 0, 0, 0, 0, 0, 1, 1,...    811.0  lot22457   \n",
       "191998  [[0, 0, 0, 0, 0, 0, 0, 0, 0, 0, 0, 0, 0, 0, 0,...   1746.0  lot12156   \n",
       "765581  [[0, 0, 0, 0, 0, 0, 0, 0, 0, 0, 0, 0, 0, 0, 0,...   1791.0  lot45676   \n",
       "285797  [[0, 0, 0, 0, 0, 0, 0, 0, 0, 0, 0, 0, 0, 0, 0,...   4096.0  lot17446   \n",
       "\n",
       "       trianTestLabel failureType waferMapDim  \n",
       "235643             []          []    (57, 57)  \n",
       "376692             []          []    (34, 31)  \n",
       "191998             []          []    (47, 47)  \n",
       "765581   [[Training]]    [[none]]    (48, 48)  \n",
       "285797             []          []    (72, 72)  "
      ]
     },
     "execution_count": 10,
     "metadata": {},
     "output_type": "execute_result"
    }
   ],
   "source": [
    "df['waferMapDim']=df.waferMap.apply(find_dim)\n",
    "df.sample(5)"
   ]
  },
  {
   "cell_type": "markdown",
   "id": "9c517d90-28fd-4a7d-aa52-aed0e8432095",
   "metadata": {
    "editable": false
   },
   "source": [
    "## Image Data Preprocessing\n",
    "\n",
    "### Get sub wafer with resolution.\n",
    "Wafer is resized to have (26, 26) resolution. rearrange wafer nd-array with faulty case label.\n",
    "some wafer has null label, skip it. \n",
    "First, let's create two types of resolution data by combining them."
   ]
  },
  {
   "cell_type": "code",
   "execution_count": null,
   "id": "06c6fa6f-ca2e-4ab0-a27c-befb869ea1ca",
   "metadata": {},
   "outputs": [],
   "source": [
    " # Data preprocessing process\n",
    "def __Inputdf__(Hei, Wei):\n",
    "    sub_df = df.loc[df['waferMapDim'] == (Hei, Wei)]\n",
    "    sw = np.ones((1,  Hei, Wei))\n",
    "    label = list()\n",
    "\n",
    "    for i in range(len(sub_df)):\n",
    "        if len(sub_df.iloc[i, :]['failureType']) == 0:\n",
    "            continue\n",
    "        sw = np.concatenate((sw, sub_df.iloc[i,:]['waferMap'].reshape(1, Hei, Wei)))\n",
    "        label.append(sub_df.iloc[i, :]['failureType'][0][0])\n",
    "    \n",
    "    x = sw[1:]\n",
    "    y = np.array(label).reshape((-1,1))\n",
    "    \n",
    "    #add channel\n",
    "    x = x.reshape((-1, Hei, Wei, 1))\n",
    "    new_x = np.zeros((len(x), Hei, Wei, 3))\n",
    "\n",
    "    for w in range(len(x)):\n",
    "        for i in range(Hei):\n",
    "            for j in range(Wei):\n",
    "                new_x[w, i, j, int(x[w, i, j])] = 1\n",
    "    return new_x, y"
   ]
  },
  {
   "cell_type": "code",
   "execution_count": 11,
   "id": "f43bd0af-c51b-4366-9063-5f0868b2b0f5",
   "metadata": {
    "editable": false
   },
   "outputs": [
    {
     "name": "stdout",
     "output_type": "stream",
     "text": [
      "Wall time: 7min 15s\n"
     ]
    }
   ],
   "source": [
    "%%time\n",
    "new_x1, y1 = __Inputdf__(26, 26)\n",
    "new_x2, y2 = __Inputdf__(25, 27)"
   ]
  },
  {
   "cell_type": "code",
   "execution_count": null,
   "id": "513dbfe2-260d-48dd-8075-b9da6ebffc91",
   "metadata": {},
   "outputs": [],
   "source": [
    " # Two ways to Scaling\n",
    "def __InputTf1__(new_x):\n",
    "    new_result = tf.compat.v1.image.resize(new_x, (26,26),\n",
    "                                       method=tf.image.ResizeMethod.NEAREST_NEIGHBOR, \n",
    "                                       align_corners=True,\n",
    "                                       preserve_aspect_ratio=False, \n",
    "                                       name=None)\n",
    "    return new_result\n",
    "\n",
    "def __InputTf2__(new_x):\n",
    "    new_result = tf.keras.preprocessing.image.smart_resize(new_x, \n",
    "                                                           (26,26),\n",
    "                                                           interpolation = 'nearest')\n",
    "    return new_result"
   ]
  },
  {
   "cell_type": "markdown",
   "id": "a37a3eb3-2fbc-48b5-8b67-3874890a1508",
   "metadata": {
    "editable": false
   },
   "source": [
    "### Resized using compat.v1 method"
   ]
  },
  {
   "cell_type": "code",
   "execution_count": 12,
   "id": "bee84c24-6333-4080-b141-3c644101f825",
   "metadata": {
    "editable": false
   },
   "outputs": [
    {
     "name": "stdout",
     "output_type": "stream",
     "text": [
      "Wall time: 2.51 s\n"
     ]
    }
   ],
   "source": [
    "%%time\n",
    "new_Tf1_1 = __InputTf1__(new_x1)\n",
    "new_Tf2_1 = __InputTf1__(new_x2)"
   ]
  },
  {
   "cell_type": "code",
   "execution_count": 26,
   "id": "4054f1f3-e45e-4f17-ae8e-d27a6dd164d4",
   "metadata": {},
   "outputs": [
    {
     "data": {
      "text/plain": [
       "(14366, 26, 26, 3)"
      ]
     },
     "execution_count": 26,
     "metadata": {},
     "output_type": "execute_result"
    }
   ],
   "source": [
    "new_x1.shape"
   ]
  },
  {
   "cell_type": "markdown",
   "id": "17e3bff0-1174-4310-abcb-3c3e752db7e4",
   "metadata": {
    "editable": false
   },
   "source": [
    "### Resized using keras.preprocessing method"
   ]
  },
  {
   "cell_type": "code",
   "execution_count": null,
   "id": "479e71f4-6aac-4053-96c7-0bf3055f8305",
   "metadata": {
    "editable": false
   },
   "outputs": [],
   "source": [
    "%%time\n",
    "new_Tf1_2 = __InputTf2__(new_x1)\n",
    "new_Tf2_2 = __InputTf2__(new_x2)"
   ]
  },
  {
   "cell_type": "markdown",
   "id": "6f2075ed-3a04-43b4-aa06-b07aa289b79b",
   "metadata": {
    "editable": false
   },
   "source": [
    "- Two methods of TensorFlow library were used. \n",
    "- Wafers with different resolutions were resized to a resolution of (26x26). \n",
    "- Comparison of speed shows similar results.\n"
   ]
  },
  {
   "cell_type": "code",
   "execution_count": 14,
   "id": "0d610228-9873-4512-a95e-768d0e26773c",
   "metadata": {
    "editable": false
   },
   "outputs": [],
   "source": [
    "# y = y1 + y2\n",
    "y = np.concatenate((y1, y2), axis=0)\n",
    "# new_x = new_x1 + new_x2\n",
    "new_x= tf.concat([new_Tf1_1, new_Tf2_1], 0)"
   ]
  },
  {
   "cell_type": "markdown",
   "id": "702581b6-904e-4ea1-9ba4-ee245466d457",
   "metadata": {
    "editable": false
   },
   "source": [
    "- Concatenated through datasets with two types of resolution"
   ]
  },
  {
   "cell_type": "code",
   "execution_count": 15,
   "id": "4d0b7957-657e-4ee8-8298-faf80fb1b782",
   "metadata": {
    "editable": false
   },
   "outputs": [],
   "source": [
    "# Using random sampling as a y array to put the none value into the none_idx variable\n",
    "none_idx = np.where(y=='none')[0][np.random.choice(len(np.where(y=='none')[0]), size=11000, replace=False)]"
   ]
  },
  {
   "cell_type": "code",
   "execution_count": 16,
   "id": "c3bdfacb-2896-46b9-8b34-7e3cb1e51afc",
   "metadata": {
    "editable": false
   },
   "outputs": [],
   "source": [
    "# delete the none value\n",
    "new_x = np.delete(new_x, none_idx, axis=0)\n",
    "new_y = np.delete(y, none_idx, axis=0)"
   ]
  },
  {
   "cell_type": "code",
   "execution_count": 17,
   "id": "2affcc7b-0389-4af7-b16c-8f5d80d49629",
   "metadata": {
    "editable": false
   },
   "outputs": [],
   "source": [
    "faulty_case = np.unique(y)\n",
    "# make string label data to numerical data\n",
    "for i, l in enumerate(faulty_case):\n",
    "    new_y[new_y==l] = i\n",
    "    \n",
    "# one-hot-encoding\n",
    "new_y = to_categorical(new_y)"
   ]
  },
  {
   "cell_type": "code",
   "execution_count": 18,
   "id": "720f0339-fcd5-4fd0-84cc-b48cdfb4b91e",
   "metadata": {
    "editable": false
   },
   "outputs": [],
   "source": [
    "# split data train, test\n",
    "x_train, x_test, y_train, y_test = train_test_split(new_x, new_y,\n",
    "                                                    test_size=0.33,\n",
    "                                                    random_state=2021)"
   ]
  },
  {
   "cell_type": "code",
   "execution_count": 19,
   "id": "6ca2ebde-8dd3-4876-9783-9d3bd12b7487",
   "metadata": {
    "editable": false
   },
   "outputs": [
    {
     "name": "stdout",
     "output_type": "stream",
     "text": [
      "Train x : (14838, 26, 26, 3), y : (14838, 9)\n",
      "Test x: (7309, 26, 26, 3), y : (7309, 9)\n"
     ]
    }
   ],
   "source": [
    "print('Train x : {}, y : {}'.format(x_train.shape, y_train.shape))\n",
    "print('Test x: {}, y : {}'.format(x_test.shape, y_test.shape))"
   ]
  },
  {
   "cell_type": "markdown",
   "id": "ae3b440a-59bc-49ab-8979-c791591a733a",
   "metadata": {
    "editable": false
   },
   "source": [
    "### Simple 2D CNN Model\n",
    "The data is ready. As wafer data is image. simply use cnn for classification.\n",
    "\n",
    "Make model\n",
    "define create model function, because we will validate model with sklearn kfold cross validation."
   ]
  },
  {
   "cell_type": "code",
   "execution_count": 20,
   "id": "affe3e04-d690-4ee9-8d83-26347487dd86",
   "metadata": {
    "editable": false
   },
   "outputs": [],
   "source": [
    "# parameter\n",
    "epoch=15\n",
    "batch_size=1024"
   ]
  },
  {
   "cell_type": "code",
   "execution_count": 21,
   "id": "d90659f1-ff9c-48fc-9175-3f7a13737d50",
   "metadata": {
    "editable": false
   },
   "outputs": [],
   "source": [
    "def create_model():\n",
    "    input_shape = (26, 26, 3)\n",
    "    input_tensor = Input(input_shape)\n",
    "\n",
    "    conv_1 = layers.Conv2D(16, (3,3), activation='relu', padding='same')(input_tensor)\n",
    "\n",
    "    flat = layers.Flatten()(conv_1)\n",
    "\n",
    "    dense_1 = layers.Dense(16, activation='relu')(flat)\n",
    "    output_tensor = layers.Dense(9, activation='softmax')(dense_1)\n",
    "\n",
    "    model = models.Model(input_tensor, output_tensor)\n",
    "    model.compile(optimizer='Adam',\n",
    "                 loss='categorical_crossentropy',\n",
    "                 metrics=['accuracy'])\n",
    "\n",
    "    return model"
   ]
  },
  {
   "cell_type": "markdown",
   "id": "b3dad18e-297c-4474-bf14-ee42f381d8fe",
   "metadata": {
    "editable": false
   },
   "source": [
    "### Cross validate model\n",
    "Using sklearn KFold Cross validation, we validate our simple cnn."
   ]
  },
  {
   "cell_type": "code",
   "execution_count": 22,
   "id": "82c46e02-c7c1-4554-aff1-c31b3f1d138c",
   "metadata": {
    "editable": false
   },
   "outputs": [
    {
     "name": "stdout",
     "output_type": "stream",
     "text": [
      "Epoch 1/5\n",
      "5/5 - 16s - loss: 1.2861 - accuracy: 0.6562\n",
      "Epoch 2/5\n",
      "5/5 - 0s - loss: 0.7180 - accuracy: 0.8326\n",
      "Epoch 3/5\n",
      "5/5 - 0s - loss: 0.5755 - accuracy: 0.9063\n",
      "Epoch 4/5\n",
      "5/5 - 0s - loss: 0.4615 - accuracy: 0.8564\n",
      "Epoch 5/5\n",
      "5/5 - 0s - loss: 0.3862 - accuracy: 0.9197\n",
      "3/3 - 0s - loss: 0.3981 - accuracy: 0.9250\n",
      "Epoch 1/5\n",
      "5/5 - 1s - loss: 1.4506 - accuracy: 0.6560\n",
      "Epoch 2/5\n",
      "5/5 - 0s - loss: 0.8873 - accuracy: 0.8273\n",
      "Epoch 3/5\n",
      "5/5 - 0s - loss: 0.6735 - accuracy: 0.8269\n",
      "Epoch 4/5\n",
      "5/5 - 0s - loss: 0.5862 - accuracy: 0.8285\n",
      "Epoch 5/5\n",
      "5/5 - 0s - loss: 0.4990 - accuracy: 0.8334\n",
      "3/3 - 0s - loss: 0.4755 - accuracy: 0.8356\n",
      "Epoch 1/5\n",
      "5/5 - 1s - loss: 1.1184 - accuracy: 0.6633\n",
      "Epoch 2/5\n",
      "5/5 - 0s - loss: 0.6859 - accuracy: 0.8398\n",
      "Epoch 3/5\n",
      "5/5 - 0s - loss: 0.5614 - accuracy: 0.8341\n",
      "Epoch 4/5\n",
      "5/5 - 0s - loss: 0.4720 - accuracy: 0.9049\n",
      "Epoch 5/5\n",
      "5/5 - 0s - loss: 0.4175 - accuracy: 0.9232\n",
      "3/3 - 0s - loss: 0.3669 - accuracy: 0.9262\n",
      "Simple CNN Cross validation score : 0.8956\n"
     ]
    }
   ],
   "source": [
    "# Make keras model to sklearn classifier.\n",
    "model = KerasClassifier(build_fn=create_model, epochs=5, batch_size=2048, verbose=2) \n",
    "# 3-Fold Crossvalidation\n",
    "kfold = KFold(n_splits=3, shuffle=True, random_state=2019) \n",
    "results = cross_val_score(model, x_train, y_train, cv=kfold)\n",
    "# Check 3-fold model's mean accuracy\n",
    "print('Simple CNN Cross validation score : {:.4f}'.format(np.mean(results)))"
   ]
  },
  {
   "cell_type": "code",
   "execution_count": 23,
   "id": "50284b7d-050f-4c8c-ae26-3dbf3e812d79",
   "metadata": {
    "editable": false
   },
   "outputs": [
    {
     "name": "stdout",
     "output_type": "stream",
     "text": [
      "Epoch 1/15\n",
      "15/15 - 1s - loss: 0.8573 - accuracy: 0.7810 - val_loss: 0.5036 - val_accuracy: 0.8488\n",
      "Epoch 2/15\n",
      "15/15 - 0s - loss: 0.4589 - accuracy: 0.8750 - val_loss: 0.3721 - val_accuracy: 0.9222\n",
      "Epoch 3/15\n",
      "15/15 - 0s - loss: 0.3553 - accuracy: 0.9271 - val_loss: 0.3002 - val_accuracy: 0.9341\n",
      "Epoch 4/15\n",
      "15/15 - 0s - loss: 0.2832 - accuracy: 0.9366 - val_loss: 0.2528 - val_accuracy: 0.9410\n",
      "Epoch 5/15\n",
      "15/15 - 0s - loss: 0.2354 - accuracy: 0.9425 - val_loss: 0.2259 - val_accuracy: 0.9435\n",
      "Epoch 6/15\n",
      "15/15 - 0s - loss: 0.2071 - accuracy: 0.9470 - val_loss: 0.2120 - val_accuracy: 0.9462\n",
      "Epoch 7/15\n",
      "15/15 - 0s - loss: 0.1891 - accuracy: 0.9488 - val_loss: 0.2027 - val_accuracy: 0.9486\n",
      "Epoch 8/15\n",
      "15/15 - 0s - loss: 0.1722 - accuracy: 0.9517 - val_loss: 0.1948 - val_accuracy: 0.9487\n",
      "Epoch 9/15\n",
      "15/15 - 0s - loss: 0.1596 - accuracy: 0.9542 - val_loss: 0.1874 - val_accuracy: 0.9514\n",
      "Epoch 10/15\n",
      "15/15 - 0s - loss: 0.1456 - accuracy: 0.9569 - val_loss: 0.1845 - val_accuracy: 0.9524\n",
      "Epoch 11/15\n",
      "15/15 - 0s - loss: 0.1366 - accuracy: 0.9597 - val_loss: 0.1772 - val_accuracy: 0.9529\n",
      "Epoch 12/15\n",
      "15/15 - 0s - loss: 0.1233 - accuracy: 0.9624 - val_loss: 0.1767 - val_accuracy: 0.9533\n",
      "Epoch 13/15\n",
      "15/15 - 0s - loss: 0.1152 - accuracy: 0.9642 - val_loss: 0.1754 - val_accuracy: 0.9540\n",
      "Epoch 14/15\n",
      "15/15 - 0s - loss: 0.1064 - accuracy: 0.9664 - val_loss: 0.1726 - val_accuracy: 0.9544\n",
      "Epoch 15/15\n",
      "15/15 - 0s - loss: 0.0981 - accuracy: 0.9696 - val_loss: 0.1695 - val_accuracy: 0.9551\n"
     ]
    }
   ],
   "source": [
    "history = model.fit(x_train, y_train,\n",
    "         validation_data=(x_test, y_test),\n",
    "         epochs=epoch,\n",
    "         batch_size=batch_size,\n",
    "         )"
   ]
  },
  {
   "cell_type": "code",
   "execution_count": 24,
   "id": "187b9298-b401-43cd-8c78-36e3463d8e6f",
   "metadata": {
    "editable": false,
    "tags": []
   },
   "outputs": [
    {
     "data": {
      "image/png": "[encoded data removed]",
      "text/plain": [
       "<Figure size 432x288 with 1 Axes>"
      ]
     },
     "metadata": {
      "needs_background": "light"
     },
     "output_type": "display_data"
    },
    {
     "data": {
      "image/png": "[encoded data removed]",
      "text/plain": [
       "<Figure size 432x288 with 1 Axes>"
      ]
     },
     "metadata": {
      "needs_background": "light"
     },
     "output_type": "display_data"
    }
   ],
   "source": [
    "# accuracy plot \n",
    "plt.plot(history.history['accuracy'])\n",
    "plt.plot(history.history['val_accuracy'])\n",
    "plt.title('model accuracy')\n",
    "plt.ylabel('accuracy')\n",
    "plt.xlabel('epoch')\n",
    "plt.legend(['train', 'test'], loc='upper left')\n",
    "plt.show()\n",
    "\n",
    "# loss plot\n",
    "plt.plot(history.history['loss'])\n",
    "plt.plot(history.history['val_loss'])\n",
    "plt.title('model loss')\n",
    "plt.ylabel('loss')\n",
    "plt.xlabel('epoch')\n",
    "plt.legend(['train', 'test'], loc='upper left')\n",
    "plt.show()"
   ]
  }
 ],
 "metadata": {
  "kernelspec": {
   "display_name": "Python 3",
   "language": "python",
   "name": "python3"
  },
  "language_info": {
   "codemirror_mode": {
    "name": "ipython",
    "version": 3
   },
   "file_extension": ".py",
   "mimetype": "text/x-python",
   "name": "python",
   "nbconvert_exporter": "python",
   "pygments_lexer": "ipython3",
   "version": "3.8.10"
  }
 },
 "nbformat": 4,
 "nbformat_minor": 5
}
